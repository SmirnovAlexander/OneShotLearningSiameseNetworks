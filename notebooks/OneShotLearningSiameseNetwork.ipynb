{
 "cells": [
  {
   "cell_type": "code",
   "execution_count": 1,
   "metadata": {},
   "outputs": [],
   "source": [
    "import sys\n",
    "sys.path.append('../scripts/')\n",
    "\n",
    "import os\n",
    "import pickle\n",
    "import numpy as np\n",
    "import matplotlib.pyplot as plt\n",
    "import tensorflow as tf\n",
    "\n",
    "from data_preparation import load_images, save_data, load_data\n",
    "from model_preparation import get_siamese_model\n",
    "from model_training import train, make_oneshot_task, test_oneshot_task\n",
    "from nearest_neighbours import test_nn_accuracy\n",
    "from plotting_images import plot_oneshot_task\n",
    "\n",
    "plt.style.use(\"seaborn\")"
   ]
  },
  {
   "cell_type": "code",
   "execution_count": 2,
   "metadata": {},
   "outputs": [],
   "source": [
    "train_folder = \"../data/images_background/\"\n",
    "val_folder = \"../data/images_evaluation/\"\n",
    "model_path = \"../models/\""
   ]
  },
  {
   "cell_type": "markdown",
   "metadata": {},
   "source": [
    "# Loading and preparing data. "
   ]
  },
  {
   "cell_type": "markdown",
   "metadata": {},
   "source": [
    "We will load train and validation images, put them into vectors and save for future usage."
   ]
  },
  {
   "cell_type": "code",
   "execution_count": 3,
   "metadata": {
    "scrolled": true
   },
   "outputs": [
    {
     "name": "stdout",
     "output_type": "stream",
     "text": [
      "Loading alphabet: Grantha\n",
      "Loading alphabet: Hebrew\n",
      "Loading alphabet: Anglo-Saxon_Futhorc\n",
      "Loading alphabet: Korean\n",
      "Loading alphabet: Braille\n",
      "Loading alphabet: Sanskrit\n",
      "Loading alphabet: Gujarati\n",
      "Loading alphabet: N_Ko\n",
      "Loading alphabet: Inuktitut_(Canadian_Aboriginal_Syllabics)\n",
      "Loading alphabet: Balinese\n",
      "Loading alphabet: Futurama\n",
      "Loading alphabet: Mkhedruli_(Georgian)\n",
      "Loading alphabet: Ojibwe_(Canadian_Aboriginal_Syllabics)\n",
      "Loading alphabet: Greek\n",
      "Loading alphabet: Syriac_(Estrangelo)\n",
      "Loading alphabet: Latin\n",
      "Loading alphabet: Asomtavruli_(Georgian)\n",
      "Loading alphabet: Alphabet_of_the_Magi\n",
      "Loading alphabet: Arcadian\n",
      "Loading alphabet: Japanese_(hiragana)\n",
      "Loading alphabet: Early_Aramaic\n",
      "Loading alphabet: Bengali\n",
      "Loading alphabet: Tifinagh\n",
      "Loading alphabet: Burmese_(Myanmar)\n",
      "Loading alphabet: Japanese_(katakana)\n",
      "Loading alphabet: Armenian\n",
      "Loading alphabet: Tagalog\n",
      "Loading alphabet: Blackfoot_(Canadian_Aboriginal_Syllabics)\n",
      "Loading alphabet: Malay_(Jawi_-_Arabic)\n",
      "Loading alphabet: Cyrillic\n"
     ]
    }
   ],
   "source": [
    "\"\"\"Preparing training data.\n",
    "x (ndarray): Array of arrays where each array (character) contains\n",
    "                     vector images (character representation).\n",
    "languages_characters_indexes (dict<str, list>): Key is language, value is list\n",
    "                                                of 2 elements: index of 1st character\n",
    "                                                and index of last.\n",
    "\"\"\" \n",
    "x, categories = load_images(train_folder)\n",
    "save_data(\"train\", x, categories)"
   ]
  },
  {
   "cell_type": "code",
   "execution_count": 4,
   "metadata": {},
   "outputs": [
    {
     "name": "stdout",
     "output_type": "stream",
     "text": [
      "Loading alphabet: Gurmukhi\n",
      "Loading alphabet: Keble\n",
      "Loading alphabet: Atlantean\n",
      "Loading alphabet: Ge_ez\n",
      "Loading alphabet: Glagolitic\n",
      "Loading alphabet: Atemayar_Qelisayer\n",
      "Loading alphabet: Tengwar\n",
      "Loading alphabet: Manipuri\n",
      "Loading alphabet: ULOG\n",
      "Loading alphabet: Avesta\n",
      "Loading alphabet: Sylheti\n",
      "Loading alphabet: Syriac_(Serto)\n",
      "Loading alphabet: Malayalam\n",
      "Loading alphabet: Oriya\n",
      "Loading alphabet: Old_Church_Slavonic_(Cyrillic)\n",
      "Loading alphabet: Mongolian\n",
      "Loading alphabet: Aurek-Besh\n",
      "Loading alphabet: Angelic\n",
      "Loading alphabet: Kannada\n",
      "Loading alphabet: Tibetan\n"
     ]
    }
   ],
   "source": [
    "\"\"\"Preparing validation data.\n",
    "\"\"\"\n",
    "x_val, categories_val = load_images(val_folder)\n",
    "save_data(\"val\", x_val, categories_val)"
   ]
  },
  {
   "cell_type": "markdown",
   "metadata": {},
   "source": [
    "# Preparing model "
   ]
  },
  {
   "cell_type": "markdown",
   "metadata": {},
   "source": [
    "## Loading model "
   ]
  },
  {
   "cell_type": "code",
   "execution_count": 5,
   "metadata": {},
   "outputs": [],
   "source": [
    "model = get_siamese_model((105, 105, 1))"
   ]
  },
  {
   "cell_type": "code",
   "execution_count": 6,
   "metadata": {},
   "outputs": [
    {
     "name": "stdout",
     "output_type": "stream",
     "text": [
      "Model: \"model\"\n",
      "__________________________________________________________________________________________________\n",
      "Layer (type)                    Output Shape         Param #     Connected to                     \n",
      "==================================================================================================\n",
      "input_1 (InputLayer)            [(None, 105, 105, 1) 0                                            \n",
      "__________________________________________________________________________________________________\n",
      "input_2 (InputLayer)            [(None, 105, 105, 1) 0                                            \n",
      "__________________________________________________________________________________________________\n",
      "sequential (Sequential)         (None, 4096)         38947648    input_1[0][0]                    \n",
      "                                                                 input_2[0][0]                    \n",
      "__________________________________________________________________________________________________\n",
      "lambda (Lambda)                 (None, 4096)         0           sequential[1][0]                 \n",
      "                                                                 sequential[2][0]                 \n",
      "__________________________________________________________________________________________________\n",
      "dense_1 (Dense)                 (None, 1)            4097        lambda[0][0]                     \n",
      "==================================================================================================\n",
      "Total params: 38,951,745\n",
      "Trainable params: 38,951,745\n",
      "Non-trainable params: 0\n",
      "__________________________________________________________________________________________________\n"
     ]
    }
   ],
   "source": [
    "model.summary()"
   ]
  },
  {
   "cell_type": "code",
   "execution_count": 7,
   "metadata": {},
   "outputs": [
    {
     "data": {
      "image/png": "[encoded data removed]",
      "text/plain": [
       "<IPython.core.display.Image object>"
      ]
     },
     "metadata": {},
     "output_type": "display_data"
    }
   ],
   "source": [
    "display(tf.keras.utils.plot_model(model, show_shapes=True))"
   ]
  },
  {
   "cell_type": "markdown",
   "metadata": {},
   "source": [
    "## Training model"
   ]
  },
  {
   "cell_type": "raw",
   "metadata": {
    "scrolled": false
   },
   "source": [
    "train(model, x, categories, x_val, categories_val, evaluate_every=1)"
   ]
  },
  {
   "cell_type": "markdown",
   "metadata": {},
   "source": [
    "# Comparing model"
   ]
  },
  {
   "cell_type": "markdown",
   "metadata": {},
   "source": [
    "## Loading data "
   ]
  },
  {
   "cell_type": "code",
   "execution_count": 12,
   "metadata": {},
   "outputs": [],
   "source": [
    "# Loading model weights.\n",
    "model.load_weights(os.path.join(model_path, \"iteration-19675-val_acc-0.97-loss-0.14.h5\"))"
   ]
  },
  {
   "cell_type": "code",
   "execution_count": 13,
   "metadata": {},
   "outputs": [
    {
     "name": "stdout",
     "output_type": "stream",
     "text": [
      "Loaded train alphabets: \n",
      "\n",
      "['Grantha', 'Hebrew', 'Anglo-Saxon_Futhorc', 'Korean', 'Braille', 'Sanskrit', 'Gujarati', 'N_Ko', 'Inuktitut_(Canadian_Aboriginal_Syllabics)', 'Balinese', 'Futurama', 'Mkhedruli_(Georgian)', 'Ojibwe_(Canadian_Aboriginal_Syllabics)', 'Greek', 'Syriac_(Estrangelo)', 'Latin', 'Asomtavruli_(Georgian)', 'Alphabet_of_the_Magi', 'Arcadian', 'Japanese_(hiragana)', 'Early_Aramaic', 'Bengali', 'Tifinagh', 'Burmese_(Myanmar)', 'Japanese_(katakana)', 'Armenian', 'Tagalog', 'Blackfoot_(Canadian_Aboriginal_Syllabics)', 'Malay_(Jawi_-_Arabic)', 'Cyrillic']\n",
      "\n",
      "\n",
      "Loaded val alphabets: \n",
      "\n",
      "['Gurmukhi', 'Keble', 'Atlantean', 'Ge_ez', 'Glagolitic', 'Atemayar_Qelisayer', 'Tengwar', 'Manipuri', 'ULOG', 'Avesta', 'Sylheti', 'Syriac_(Serto)', 'Malayalam', 'Oriya', 'Old_Church_Slavonic_(Cyrillic)', 'Mongolian', 'Aurek-Besh', 'Angelic', 'Kannada', 'Tibetan']\n",
      "\n",
      "\n"
     ]
    }
   ],
   "source": [
    "# Loading data.\n",
    "x, categories = load_data(\"train\")\n",
    "x_val, categories_val = load_data(\"val\")"
   ]
  },
  {
   "cell_type": "markdown",
   "metadata": {},
   "source": [
    "## Predicting values"
   ]
  },
  {
   "cell_type": "markdown",
   "metadata": {},
   "source": [
    "Let's run nearest neighbours method and our model throw predicting comparison where we comparing with $1, 3, 5,$ etc. photos."
   ]
  },
  {
   "cell_type": "code",
   "execution_count": 14,
   "metadata": {},
   "outputs": [],
   "source": [
    "# Amount of photos we comparing to.\n",
    "ways = np.arange(1, 20, 2)\n",
    "\n",
    "# Number of trials for each amount.\n",
    "trials = 50"
   ]
  },
  {
   "cell_type": "code",
   "execution_count": 15,
   "metadata": {
    "scrolled": true
   },
   "outputs": [
    {
     "name": "stdout",
     "output_type": "stream",
     "text": [
      "Evaluating model on 50 random 1 way one-shot learning tasks ... \n",
      "\n",
      "Got an average of 1.00 in 1 way one-shot learning accuracy \n",
      "\n",
      "Evaluating model on 50 random 1 way one-shot learning tasks ... \n",
      "\n",
      "Got an average of 1.00 in 1 way one-shot learning accuracy \n",
      "\n",
      "Evaluating nearest neighbour on 50 unique 1-way one-shot learning tasks ...\n",
      "NN Accuracy: 1.0\n",
      "-----------------------------------------------------\n",
      "Evaluating model on 50 random 3 way one-shot learning tasks ... \n",
      "\n",
      "Got an average of 1.00 in 3 way one-shot learning accuracy \n",
      "\n",
      "Evaluating model on 50 random 3 way one-shot learning tasks ... \n",
      "\n",
      "Got an average of 1.00 in 3 way one-shot learning accuracy \n",
      "\n",
      "Evaluating nearest neighbour on 50 unique 3-way one-shot learning tasks ...\n",
      "NN Accuracy: 0.52\n",
      "-----------------------------------------------------\n",
      "Evaluating model on 50 random 5 way one-shot learning tasks ... \n",
      "\n",
      "Got an average of 0.98 in 5 way one-shot learning accuracy \n",
      "\n",
      "Evaluating model on 50 random 5 way one-shot learning tasks ... \n",
      "\n",
      "Got an average of 0.86 in 5 way one-shot learning accuracy \n",
      "\n",
      "Evaluating nearest neighbour on 50 unique 5-way one-shot learning tasks ...\n",
      "NN Accuracy: 0.4\n",
      "-----------------------------------------------------\n",
      "Evaluating model on 50 random 7 way one-shot learning tasks ... \n",
      "\n",
      "Got an average of 0.94 in 7 way one-shot learning accuracy \n",
      "\n",
      "Evaluating model on 50 random 7 way one-shot learning tasks ... \n",
      "\n",
      "Got an average of 0.90 in 7 way one-shot learning accuracy \n",
      "\n",
      "Evaluating nearest neighbour on 50 unique 7-way one-shot learning tasks ...\n",
      "NN Accuracy: 0.34\n",
      "-----------------------------------------------------\n",
      "Evaluating model on 50 random 9 way one-shot learning tasks ... \n",
      "\n",
      "Got an average of 0.98 in 9 way one-shot learning accuracy \n",
      "\n",
      "Evaluating model on 50 random 9 way one-shot learning tasks ... \n",
      "\n",
      "Got an average of 0.96 in 9 way one-shot learning accuracy \n",
      "\n",
      "Evaluating nearest neighbour on 50 unique 9-way one-shot learning tasks ...\n",
      "NN Accuracy: 0.18\n",
      "-----------------------------------------------------\n",
      "Evaluating model on 50 random 11 way one-shot learning tasks ... \n",
      "\n",
      "Got an average of 1.00 in 11 way one-shot learning accuracy \n",
      "\n",
      "Evaluating model on 50 random 11 way one-shot learning tasks ... \n",
      "\n",
      "Got an average of 0.86 in 11 way one-shot learning accuracy \n",
      "\n",
      "Evaluating nearest neighbour on 50 unique 11-way one-shot learning tasks ...\n",
      "NN Accuracy: 0.22\n",
      "-----------------------------------------------------\n",
      "Evaluating model on 50 random 13 way one-shot learning tasks ... \n",
      "\n",
      "Got an average of 0.94 in 13 way one-shot learning accuracy \n",
      "\n",
      "Evaluating model on 50 random 13 way one-shot learning tasks ... \n",
      "\n",
      "Got an average of 0.80 in 13 way one-shot learning accuracy \n",
      "\n",
      "Evaluating nearest neighbour on 50 unique 13-way one-shot learning tasks ...\n",
      "NN Accuracy: 0.2\n",
      "-----------------------------------------------------\n",
      "Evaluating model on 50 random 15 way one-shot learning tasks ... \n",
      "\n",
      "Got an average of 0.96 in 15 way one-shot learning accuracy \n",
      "\n",
      "Evaluating model on 50 random 15 way one-shot learning tasks ... \n",
      "\n",
      "Got an average of 0.80 in 15 way one-shot learning accuracy \n",
      "\n",
      "Evaluating nearest neighbour on 50 unique 15-way one-shot learning tasks ...\n",
      "NN Accuracy: 0.16\n",
      "-----------------------------------------------------\n",
      "Evaluating model on 50 random 17 way one-shot learning tasks ... \n",
      "\n",
      "Got an average of 0.96 in 17 way one-shot learning accuracy \n",
      "\n",
      "Evaluating model on 50 random 17 way one-shot learning tasks ... \n",
      "\n",
      "Got an average of 0.80 in 17 way one-shot learning accuracy \n",
      "\n",
      "Evaluating nearest neighbour on 50 unique 17-way one-shot learning tasks ...\n",
      "NN Accuracy: 0.22\n",
      "-----------------------------------------------------\n",
      "Evaluating model on 50 random 19 way one-shot learning tasks ... \n",
      "\n",
      "Got an average of 0.94 in 19 way one-shot learning accuracy \n",
      "\n",
      "Evaluating model on 50 random 19 way one-shot learning tasks ... \n",
      "\n",
      "Got an average of 0.94 in 19 way one-shot learning accuracy \n",
      "\n",
      "Evaluating nearest neighbour on 50 unique 19-way one-shot learning tasks ...\n",
      "NN Accuracy: 0.14\n",
      "-----------------------------------------------------\n"
     ]
    }
   ],
   "source": [
    "train_accs, val_accs, nn_accs = [], [], []\n",
    "\n",
    "for N in ways:    \n",
    "    train_accs.append(test_oneshot_task(model, N, trials, x, categories, verbose=True))\n",
    "    val_accs.append(test_oneshot_task(model, N, trials, x_val, categories_val, verbose=True))    \n",
    "    nn_accs.append(test_nn_accuracy(N, trials, x_val, categories_val))\n",
    "    \n",
    "    print (\"NN Accuracy:\", nn_accs[-1])\n",
    "    print(\"-----------------------------------------------------\")"
   ]
  },
  {
   "cell_type": "code",
   "execution_count": 16,
   "metadata": {},
   "outputs": [],
   "source": [
    "# Saving accuracies.\n",
    "with open(os.path.join(\"../data/arrays\", \"accuracies.pickle\"), \"wb\") as f:\n",
    "    pickle.dump((val_accs, train_accs, nn_accs), f)"
   ]
  },
  {
   "cell_type": "markdown",
   "metadata": {},
   "source": [
    "## Exploring outputs "
   ]
  },
  {
   "cell_type": "code",
   "execution_count": 17,
   "metadata": {},
   "outputs": [],
   "source": [
    "# Loading accuracies.\n",
    "with open(os.path.join(\"../data/arrays\", \"accuracies.pickle\"), \"rb\") as f:\n",
    "    (val_accs, train_accs, nn_accs) = pickle.load(f)"
   ]
  },
  {
   "cell_type": "markdown",
   "metadata": {},
   "source": [
    "Building plots comparing theese runs."
   ]
  },
  {
   "cell_type": "code",
   "execution_count": 18,
   "metadata": {},
   "outputs": [
    {
     "data": {
      "image/png": "[encoded data removed]",
      "text/plain": [
       "<Figure size 864x576 with 1 Axes>"
      ]
     },
     "metadata": {
      "needs_background": "light"
     },
     "output_type": "display_data"
    }
   ],
   "source": [
    "fig, ax = plt.subplots(1)\n",
    "\n",
    "ax.plot(ways, val_accs, \"m\", label=\"Siamese (val set)\")\n",
    "ax.plot(ways, train_accs, \"y\", label=\"Siamese (train set)\")\n",
    "ax.plot(ways, nn_accs, label=\"Nearest neighbour\")\n",
    "ax.plot(ways, 1./ways, \"g\", label=\"Random guessing\")\n",
    "\n",
    "plt.xlabel(\"Number of possible classes in one-shot tasks\")\n",
    "plt.ylabel(\"Accuracy\")\n",
    "plt.title(\"Omiglot One-Shot Learning Performance of a Siamese Network\")\n",
    "\n",
    "box = ax.get_position()\n",
    "ax.set_position([box.x0, box.y0, box.width * 0.8, box.height])\n",
    "ax.legend(loc='center left', bbox_to_anchor=(1, 0.5))\n",
    "\n",
    "fig.set_size_inches(12, 8, forward=True)\n",
    "\n",
    "plt.show()"
   ]
  },
  {
   "cell_type": "markdown",
   "metadata": {},
   "source": [
    "# Using model "
   ]
  },
  {
   "cell_type": "code",
   "execution_count": 19,
   "metadata": {},
   "outputs": [
    {
     "data": {
      "image/png": "[encoded data removed]",
      "text/plain": [
       "<Figure size 432x288 with 2 Axes>"
      ]
     },
     "metadata": {
      "needs_background": "light"
     },
     "output_type": "display_data"
    }
   ],
   "source": [
    "pairs, targets = make_oneshot_task(16, x_val, languages_characters_indexes_val, \"Tibetan\")\n",
    "plot_oneshot_task(pairs)"
   ]
  },
  {
   "cell_type": "code",
   "execution_count": 20,
   "metadata": {},
   "outputs": [
    {
     "data": {
      "text/plain": [
       "3"
      ]
     },
     "execution_count": 20,
     "metadata": {},
     "output_type": "execute_result"
    }
   ],
   "source": [
    "np.argmax(model.predict_on_batch(pairs))"
   ]
  }
 ],
 "metadata": {
  "hide_input": false,
  "kernelspec": {
   "display_name": "Python 3",
   "language": "python",
   "name": "python3"
  },
  "toc": {
   "base_numbering": 1,
   "nav_menu": {},
   "number_sections": true,
   "sideBar": true,
   "skip_h1_title": false,
   "title_cell": "Table of Contents",
   "title_sidebar": "Contents",
   "toc_cell": false,
   "toc_position": {
    "height": "calc(100% - 180px)",
    "left": "10px",
    "top": "150px",
    "width": "384px"
   },
   "toc_section_display": true,
   "toc_window_display": true
  }
 },
 "nbformat": 4,
 "nbformat_minor": 2
}
